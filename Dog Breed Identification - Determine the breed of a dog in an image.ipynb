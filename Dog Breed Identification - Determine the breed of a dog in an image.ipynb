{
  "nbformat": 4,
  "nbformat_minor": 0,
  "metadata": {
    "colab": {
      "name": "CV_Project2_Dog_Breed_Classification_Questions.ipynb",
      "version": "0.3.2",
      "provenance": [],
      "collapsed_sections": []
    },
    "kernelspec": {
      "name": "python3",
      "display_name": "Python 3"
    },
    "accelerator": "GPU"
  },
  "cells": [
    {
      "cell_type": "markdown",
      "metadata": {
        "colab_type": "text",
        "id": "2kIWaR5ZpKlJ"
      },
      "source": [
        "## Dog Breed Classification\n",
        "\n",
        "In this project we will use traditional CNN, CNN with data augmentation and finally transfer Learning by VGG16 model with weights pre-trained on Imagenet to solve the dog breed classification problem"
      ]
    },
    {
      "cell_type": "markdown",
      "metadata": {
        "colab_type": "text",
        "id": "F7MDmaAw2xGO"
      },
      "source": [
        "### Load Dataset Files"
      ]
    },
    {
      "cell_type": "code",
      "metadata": {
        "colab_type": "code",
        "id": "BZWpQv1OwqYK",
        "colab": {}
      },
      "source": [
        "from google.colab import drive"
      ],
      "execution_count": 0,
      "outputs": []
    },
    {
      "cell_type": "code",
      "metadata": {
        "colab_type": "code",
        "id": "fVhB9OopxFbX",
        "outputId": "8633e7c5-f271-4b7e-b0c2-2e3ea57dd909",
        "colab": {
          "base_uri": "https://localhost:8080/",
          "height": 34
        }
      },
      "source": [
        "drive.mount('/content/drive/')"
      ],
      "execution_count": 27,
      "outputs": [
        {
          "output_type": "stream",
          "text": [
            "Drive already mounted at /content/drive/; to attempt to forcibly remount, call drive.mount(\"/content/drive/\", force_remount=True).\n"
          ],
          "name": "stdout"
        }
      ]
    },
    {
      "cell_type": "markdown",
      "metadata": {
        "colab_type": "text",
        "id": "1q2zzIaUprk_"
      },
      "source": [
        "Now, upload the given dataset file shared with you in your google drive and give its path for the below given `project_path` variable. For example, a path is given below according to the file path in our google drive. You need to change this to match the path of yours."
      ]
    },
    {
      "cell_type": "code",
      "metadata": {
        "colab_type": "code",
        "id": "Tp6FvAToxUFs",
        "colab": {}
      },
      "source": [
        "project_path = \"/content/drive/My Drive/Machine learning And AI/Data for Dogg breed/\""
      ],
      "execution_count": 0,
      "outputs": []
    },
    {
      "cell_type": "markdown",
      "metadata": {
        "colab_type": "text",
        "id": "rydR_j8lqUei"
      },
      "source": [
        "Run the below code to extract all the images in the train.zip files given in the dataset. We are going to use these images as train and validation sets and their labels in further steps."
      ]
    },
    {
      "cell_type": "code",
      "metadata": {
        "colab_type": "code",
        "id": "3350WZM4w4EL",
        "colab": {}
      },
      "source": [
        "from zipfile import ZipFile\n",
        "with ZipFile(project_path+'train.zip', 'r') as z:\n",
        "  z.extractall()"
      ],
      "execution_count": 0,
      "outputs": []
    },
    {
      "cell_type": "markdown",
      "metadata": {
        "id": "3NHq1iBCfFjE",
        "colab_type": "text"
      },
      "source": [
        "Repeat the same step for test.zip"
      ]
    },
    {
      "cell_type": "code",
      "metadata": {
        "colab_type": "code",
        "id": "_fxzynvB2YCb",
        "colab": {}
      },
      "source": [
        "from zipfile import ZipFile\n",
        "with ZipFile(project_path+'test.zip', 'r') as z:\n",
        "  z.extractall()"
      ],
      "execution_count": 0,
      "outputs": []
    },
    {
      "cell_type": "markdown",
      "metadata": {
        "id": "jnUMhQrDfJmz",
        "colab_type": "text"
      },
      "source": [
        "Repeat the same step for sample_submission.csv.zip"
      ]
    },
    {
      "cell_type": "code",
      "metadata": {
        "colab_type": "code",
        "id": "4PyTxE8q2jLf",
        "colab": {}
      },
      "source": [
        "from zipfile import ZipFile\n",
        "with ZipFile(project_path+'sample_submission.csv.zip', 'r') as z:\n",
        "  z.extractall()"
      ],
      "execution_count": 0,
      "outputs": []
    },
    {
      "cell_type": "markdown",
      "metadata": {
        "id": "2G9RIxB-fOLT",
        "colab_type": "text"
      },
      "source": [
        "Repeat the same step for labels.csv.zip"
      ]
    },
    {
      "cell_type": "code",
      "metadata": {
        "colab_type": "code",
        "id": "rXtnEoEixbgi",
        "colab": {}
      },
      "source": [
        "from zipfile import ZipFile\n",
        "with ZipFile(project_path+'labels.csv.zip', 'r') as z:\n",
        "  z.extractall()"
      ],
      "execution_count": 0,
      "outputs": []
    },
    {
      "cell_type": "markdown",
      "metadata": {
        "id": "sJc1lVrW_jmL",
        "colab_type": "text"
      },
      "source": [
        "After this process, we will have 4 files - Train folder, test folder and labels.csv and sample_submission.csv as part of your google drive"
      ]
    },
    {
      "cell_type": "markdown",
      "metadata": {
        "colab_type": "text",
        "id": "aYmJKmDqqpng"
      },
      "source": [
        "### Read labels.csv file using pandas"
      ]
    },
    {
      "cell_type": "code",
      "metadata": {
        "id": "WmlJ2VMY96IZ",
        "colab_type": "code",
        "colab": {}
      },
      "source": [
        "import pandas as pd\n",
        "import numpy as np\n",
        "import matplotlib.pyplot as plt\n",
        "import tensorflow as tf"
      ],
      "execution_count": 0,
      "outputs": []
    },
    {
      "cell_type": "code",
      "metadata": {
        "id": "hPvb1RSc96If",
        "colab_type": "code",
        "colab": {}
      },
      "source": [
        "labels = pd.read_csv(\"labels.csv\")"
      ],
      "execution_count": 0,
      "outputs": []
    },
    {
      "cell_type": "code",
      "metadata": {
        "id": "5Jq_AIiQ7Hsz",
        "colab_type": "code",
        "outputId": "529f3e05-a961-4745-93bd-fec749951ad5",
        "colab": {
          "base_uri": "https://localhost:8080/",
          "height": 204
        }
      },
      "source": [
        "labels.head()"
      ],
      "execution_count": 35,
      "outputs": [
        {
          "output_type": "execute_result",
          "data": {
            "text/html": [
              "<div>\n",
              "<style scoped>\n",
              "    .dataframe tbody tr th:only-of-type {\n",
              "        vertical-align: middle;\n",
              "    }\n",
              "\n",
              "    .dataframe tbody tr th {\n",
              "        vertical-align: top;\n",
              "    }\n",
              "\n",
              "    .dataframe thead th {\n",
              "        text-align: right;\n",
              "    }\n",
              "</style>\n",
              "<table border=\"1\" class=\"dataframe\">\n",
              "  <thead>\n",
              "    <tr style=\"text-align: right;\">\n",
              "      <th></th>\n",
              "      <th>id</th>\n",
              "      <th>breed</th>\n",
              "    </tr>\n",
              "  </thead>\n",
              "  <tbody>\n",
              "    <tr>\n",
              "      <th>0</th>\n",
              "      <td>000bec180eb18c7604dcecc8fe0dba07</td>\n",
              "      <td>boston_bull</td>\n",
              "    </tr>\n",
              "    <tr>\n",
              "      <th>1</th>\n",
              "      <td>001513dfcb2ffafc82cccf4d8bbaba97</td>\n",
              "      <td>dingo</td>\n",
              "    </tr>\n",
              "    <tr>\n",
              "      <th>2</th>\n",
              "      <td>001cdf01b096e06d78e9e5112d419397</td>\n",
              "      <td>pekinese</td>\n",
              "    </tr>\n",
              "    <tr>\n",
              "      <th>3</th>\n",
              "      <td>00214f311d5d2247d5dfe4fe24b2303d</td>\n",
              "      <td>bluetick</td>\n",
              "    </tr>\n",
              "    <tr>\n",
              "      <th>4</th>\n",
              "      <td>0021f9ceb3235effd7fcde7f7538ed62</td>\n",
              "      <td>golden_retriever</td>\n",
              "    </tr>\n",
              "  </tbody>\n",
              "</table>\n",
              "</div>"
            ],
            "text/plain": [
              "                                 id             breed\n",
              "0  000bec180eb18c7604dcecc8fe0dba07       boston_bull\n",
              "1  001513dfcb2ffafc82cccf4d8bbaba97             dingo\n",
              "2  001cdf01b096e06d78e9e5112d419397          pekinese\n",
              "3  00214f311d5d2247d5dfe4fe24b2303d          bluetick\n",
              "4  0021f9ceb3235effd7fcde7f7538ed62  golden_retriever"
            ]
          },
          "metadata": {
            "tags": []
          },
          "execution_count": 35
        }
      ]
    },
    {
      "cell_type": "code",
      "metadata": {
        "id": "I0f4jqPuM30h",
        "colab_type": "code",
        "outputId": "f255cc45-996c-409c-ec4e-bb8f81c2fcb9",
        "colab": {
          "base_uri": "https://localhost:8080/",
          "height": 136
        }
      },
      "source": [
        "labels.info()"
      ],
      "execution_count": 36,
      "outputs": [
        {
          "output_type": "stream",
          "text": [
            "<class 'pandas.core.frame.DataFrame'>\n",
            "RangeIndex: 10222 entries, 0 to 10221\n",
            "Data columns (total 2 columns):\n",
            "id       10222 non-null object\n",
            "breed    10222 non-null object\n",
            "dtypes: object(2)\n",
            "memory usage: 159.8+ KB\n"
          ],
          "name": "stdout"
        }
      ]
    },
    {
      "cell_type": "markdown",
      "metadata": {
        "colab_type": "text",
        "id": "QP8YAzQvqyK-"
      },
      "source": [
        "### Print the count of each category of Dogs given in the dataset\n",
        "\n"
      ]
    },
    {
      "cell_type": "code",
      "metadata": {
        "id": "3L2naXlr96Im",
        "colab_type": "code",
        "outputId": "3a9d9dcf-60e3-4ef5-eafd-001a94335439",
        "colab": {
          "base_uri": "https://localhost:8080/",
          "height": 119
        }
      },
      "source": [
        "labels[\"breed\"].value_counts().head()"
      ],
      "execution_count": 37,
      "outputs": [
        {
          "output_type": "execute_result",
          "data": {
            "text/plain": [
              "scottish_deerhound      126\n",
              "maltese_dog             117\n",
              "afghan_hound            116\n",
              "entlebucher             115\n",
              "bernese_mountain_dog    114\n",
              "Name: breed, dtype: int64"
            ]
          },
          "metadata": {
            "tags": []
          },
          "execution_count": 37
        }
      ]
    },
    {
      "cell_type": "code",
      "metadata": {
        "id": "CLm3W5RN96Ir",
        "colab_type": "code",
        "colab": {}
      },
      "source": [
        ""
      ],
      "execution_count": 0,
      "outputs": []
    },
    {
      "cell_type": "markdown",
      "metadata": {
        "colab_type": "text",
        "id": "WI94_Qcc0D4M"
      },
      "source": [
        "### Get one-hot encodings of labels"
      ]
    },
    {
      "cell_type": "code",
      "metadata": {
        "id": "Q48iAcY196I3",
        "colab_type": "code",
        "colab": {}
      },
      "source": [
        "labels.breed = pd.Categorical(labels.breed)\n"
      ],
      "execution_count": 0,
      "outputs": []
    },
    {
      "cell_type": "code",
      "metadata": {
        "id": "9nlWmRNM96I8",
        "colab_type": "code",
        "colab": {}
      },
      "source": [
        "labels['breed_category'] = labels.breed.cat.codes"
      ],
      "execution_count": 0,
      "outputs": []
    },
    {
      "cell_type": "code",
      "metadata": {
        "id": "HzIyCukWyt3I",
        "colab_type": "code",
        "outputId": "8213a110-d2f1-419e-e47c-c461556d9b70",
        "colab": {
          "base_uri": "https://localhost:8080/",
          "height": 204
        }
      },
      "source": [
        "labels.head(5)"
      ],
      "execution_count": 40,
      "outputs": [
        {
          "output_type": "execute_result",
          "data": {
            "text/html": [
              "<div>\n",
              "<style scoped>\n",
              "    .dataframe tbody tr th:only-of-type {\n",
              "        vertical-align: middle;\n",
              "    }\n",
              "\n",
              "    .dataframe tbody tr th {\n",
              "        vertical-align: top;\n",
              "    }\n",
              "\n",
              "    .dataframe thead th {\n",
              "        text-align: right;\n",
              "    }\n",
              "</style>\n",
              "<table border=\"1\" class=\"dataframe\">\n",
              "  <thead>\n",
              "    <tr style=\"text-align: right;\">\n",
              "      <th></th>\n",
              "      <th>id</th>\n",
              "      <th>breed</th>\n",
              "      <th>breed_category</th>\n",
              "    </tr>\n",
              "  </thead>\n",
              "  <tbody>\n",
              "    <tr>\n",
              "      <th>0</th>\n",
              "      <td>000bec180eb18c7604dcecc8fe0dba07</td>\n",
              "      <td>boston_bull</td>\n",
              "      <td>19</td>\n",
              "    </tr>\n",
              "    <tr>\n",
              "      <th>1</th>\n",
              "      <td>001513dfcb2ffafc82cccf4d8bbaba97</td>\n",
              "      <td>dingo</td>\n",
              "      <td>37</td>\n",
              "    </tr>\n",
              "    <tr>\n",
              "      <th>2</th>\n",
              "      <td>001cdf01b096e06d78e9e5112d419397</td>\n",
              "      <td>pekinese</td>\n",
              "      <td>85</td>\n",
              "    </tr>\n",
              "    <tr>\n",
              "      <th>3</th>\n",
              "      <td>00214f311d5d2247d5dfe4fe24b2303d</td>\n",
              "      <td>bluetick</td>\n",
              "      <td>15</td>\n",
              "    </tr>\n",
              "    <tr>\n",
              "      <th>4</th>\n",
              "      <td>0021f9ceb3235effd7fcde7f7538ed62</td>\n",
              "      <td>golden_retriever</td>\n",
              "      <td>49</td>\n",
              "    </tr>\n",
              "  </tbody>\n",
              "</table>\n",
              "</div>"
            ],
            "text/plain": [
              "                                 id             breed  breed_category\n",
              "0  000bec180eb18c7604dcecc8fe0dba07       boston_bull              19\n",
              "1  001513dfcb2ffafc82cccf4d8bbaba97             dingo              37\n",
              "2  001cdf01b096e06d78e9e5112d419397          pekinese              85\n",
              "3  00214f311d5d2247d5dfe4fe24b2303d          bluetick              15\n",
              "4  0021f9ceb3235effd7fcde7f7538ed62  golden_retriever              49"
            ]
          },
          "metadata": {
            "tags": []
          },
          "execution_count": 40
        }
      ]
    },
    {
      "cell_type": "code",
      "metadata": {
        "id": "9TwjB-3KzX5q",
        "colab_type": "code",
        "colab": {}
      },
      "source": [
        "labels_encode = tf.keras.utils.to_categorical(labels['breed_category'],num_classes=120,dtype='float32')\n",
        "labels = labels.drop([\"breed_category\"],axis = 1)"
      ],
      "execution_count": 0,
      "outputs": []
    },
    {
      "cell_type": "code",
      "metadata": {
        "id": "JDJH_78Azpbr",
        "colab_type": "code",
        "outputId": "c7878d24-8c13-4b03-bf13-bfe046751bc2",
        "colab": {
          "base_uri": "https://localhost:8080/",
          "height": 153
        }
      },
      "source": [
        "labels_encode[1]"
      ],
      "execution_count": 42,
      "outputs": [
        {
          "output_type": "execute_result",
          "data": {
            "text/plain": [
              "array([0., 0., 0., 0., 0., 0., 0., 0., 0., 0., 0., 0., 0., 0., 0., 0., 0.,\n",
              "       0., 0., 0., 0., 0., 0., 0., 0., 0., 0., 0., 0., 0., 0., 0., 0., 0.,\n",
              "       0., 0., 0., 1., 0., 0., 0., 0., 0., 0., 0., 0., 0., 0., 0., 0., 0.,\n",
              "       0., 0., 0., 0., 0., 0., 0., 0., 0., 0., 0., 0., 0., 0., 0., 0., 0.,\n",
              "       0., 0., 0., 0., 0., 0., 0., 0., 0., 0., 0., 0., 0., 0., 0., 0., 0.,\n",
              "       0., 0., 0., 0., 0., 0., 0., 0., 0., 0., 0., 0., 0., 0., 0., 0., 0.,\n",
              "       0., 0., 0., 0., 0., 0., 0., 0., 0., 0., 0., 0., 0., 0., 0., 0., 0.,\n",
              "       0.], dtype=float32)"
            ]
          },
          "metadata": {
            "tags": []
          },
          "execution_count": 42
        }
      ]
    },
    {
      "cell_type": "markdown",
      "metadata": {
        "id": "VWaJ9naXfoiU",
        "colab_type": "text"
      },
      "source": [
        "## Preparing training dataset\n",
        "1. Write a code which reads each and every id from labels.csv file and loads the corresponding image (in RGB - 128, 128, 3) from the train folder. <br>\n",
        "2. Create 2 variables <br> \n",
        "     a.  x_train - Should have all the images of the dogs from train folder <br>\n",
        "     b.  y_train - Corresponding label of the dog <br>\n",
        "<u>Note:</u> The id of the dog images and its corresponding labels are available in labels.csv file   \n",
        "<u>Hint:</u> Watch the video shared on \"Preparing the training dataset\" if you face issue on creating the training dataset"
      ]
    },
    {
      "cell_type": "code",
      "metadata": {
        "colab_type": "code",
        "id": "aC2f9ecR0XGR",
        "colab": {}
      },
      "source": [
        "img_rows = 128\n",
        "img_cols = 128\n",
        "num_channel = 3"
      ],
      "execution_count": 0,
      "outputs": []
    },
    {
      "cell_type": "code",
      "metadata": {
        "colab_type": "code",
        "id": "nkkZEpOe0ipk",
        "outputId": "c583b72f-8bfe-4264-db0c-cb6988069f37",
        "colab": {
          "base_uri": "https://localhost:8080/",
          "height": 34
        }
      },
      "source": [
        "from tqdm import tqdm\n",
        "import cv2\n",
        "x_train = []\n",
        "y_train = []\n",
        "\n",
        "for f,img in tqdm(labels.values):\n",
        "  train_img = cv2.imread('./train/{}.jpg'.format(f),1)\n",
        "  train_img_resize = cv2.resize(train_img,(img_rows,img_cols))\n",
        "  x_train.append(train_img_resize)\n",
        "  y_train.append(img)"
      ],
      "execution_count": 44,
      "outputs": [
        {
          "output_type": "stream",
          "text": [
            "100%|██████████| 10222/10222 [00:25<00:00, 394.85it/s]\n"
          ],
          "name": "stderr"
        }
      ]
    },
    {
      "cell_type": "markdown",
      "metadata": {
        "id": "6ioWDEgElBOs",
        "colab_type": "text"
      },
      "source": [
        "Normalize the training data and convert into 4 dimensions so that it can be used as an input to conv layers in the model"
      ]
    },
    {
      "cell_type": "code",
      "metadata": {
        "id": "T00Iho3NoTBU",
        "colab_type": "code",
        "colab": {}
      },
      "source": [
        ""
      ],
      "execution_count": 0,
      "outputs": []
    },
    {
      "cell_type": "code",
      "metadata": {
        "colab_type": "code",
        "id": "ARn76j3U1CDa",
        "colab": {}
      },
      "source": [
        ""
      ],
      "execution_count": 0,
      "outputs": []
    },
    {
      "cell_type": "code",
      "metadata": {
        "id": "HzNknB3TqKiz",
        "colab_type": "code",
        "colab": {}
      },
      "source": [
        "x_train = np.asarray(x_train)"
      ],
      "execution_count": 0,
      "outputs": []
    },
    {
      "cell_type": "code",
      "metadata": {
        "id": "pGNqRnku3B9J",
        "colab_type": "code",
        "colab": {}
      },
      "source": [
        "y_train = np.asarray(y_train)"
      ],
      "execution_count": 0,
      "outputs": []
    },
    {
      "cell_type": "code",
      "metadata": {
        "id": "FB9YaQ3E3IW6",
        "colab_type": "code",
        "outputId": "eb201e27-c725-4b7f-b343-5248aa1dd21a",
        "colab": {
          "base_uri": "https://localhost:8080/",
          "height": 34
        }
      },
      "source": [
        "y_train.shape"
      ],
      "execution_count": 47,
      "outputs": [
        {
          "output_type": "execute_result",
          "data": {
            "text/plain": [
              "(10222,)"
            ]
          },
          "metadata": {
            "tags": []
          },
          "execution_count": 47
        }
      ]
    },
    {
      "cell_type": "code",
      "metadata": {
        "id": "yCqreU144SBN",
        "colab_type": "code",
        "colab": {}
      },
      "source": [
        "x_train = x_train/255"
      ],
      "execution_count": 0,
      "outputs": []
    },
    {
      "cell_type": "markdown",
      "metadata": {
        "colab_type": "text",
        "id": "bdCXuAE11gZL"
      },
      "source": [
        "### Split the training and validation data from `x_train_data` and `y_train_data` obtained from above step"
      ]
    },
    {
      "cell_type": "code",
      "metadata": {
        "id": "kpWx-pgV96Jv",
        "colab_type": "code",
        "colab": {}
      },
      "source": [
        "from sklearn.model_selection import train_test_split"
      ],
      "execution_count": 0,
      "outputs": []
    },
    {
      "cell_type": "code",
      "metadata": {
        "id": "xvMBWAmf7kmN",
        "colab_type": "code",
        "colab": {}
      },
      "source": [
        "X_train, X_validation, Y_train, Y_validation = train_test_split(x_train, labels_encode, test_size=.20, random_state=7)"
      ],
      "execution_count": 0,
      "outputs": []
    },
    {
      "cell_type": "code",
      "metadata": {
        "id": "fUkCvDJCIwEV",
        "colab_type": "code",
        "colab": {}
      },
      "source": [
        "del y_train"
      ],
      "execution_count": 0,
      "outputs": []
    },
    {
      "cell_type": "markdown",
      "metadata": {
        "colab_type": "text",
        "id": "XkL-N1jDsU8m"
      },
      "source": [
        "### Loading the test data\n",
        "Read the id column from the samples_submission.csv and store it in test_img"
      ]
    },
    {
      "cell_type": "code",
      "metadata": {
        "colab_type": "code",
        "id": "DnpXdpd9b3E7",
        "colab": {}
      },
      "source": [
        "test_img = pd.read_csv(\"sample_submission.csv\")"
      ],
      "execution_count": 0,
      "outputs": []
    },
    {
      "cell_type": "code",
      "metadata": {
        "id": "wZFTnG-D_fkk",
        "colab_type": "code",
        "colab": {}
      },
      "source": [
        "test_img=test_img[\"id\"]"
      ],
      "execution_count": 0,
      "outputs": []
    },
    {
      "cell_type": "code",
      "metadata": {
        "id": "VuXh8Mlh_tyg",
        "colab_type": "code",
        "colab": {}
      },
      "source": [
        "#test_img.head(2)"
      ],
      "execution_count": 0,
      "outputs": []
    },
    {
      "cell_type": "markdown",
      "metadata": {
        "id": "DEJqZIMbm0Jo",
        "colab_type": "text"
      },
      "source": [
        "Run the below code to load the test image files in x_test_feature"
      ]
    },
    {
      "cell_type": "code",
      "metadata": {
        "colab_type": "code",
        "id": "zf7n4WG-b3Hv",
        "outputId": "6ce644d0-b752-4132-db42-ff50f1e42526",
        "colab": {
          "base_uri": "https://localhost:8080/",
          "height": 34
        }
      },
      "source": [
        "x_test_feature = []\n",
        "i = 0 # initialisation\n",
        "for f in tqdm(test_img.values): # f for format ,jpg\n",
        "    img = cv2.imread('./test/{}.jpg'.format(f), 0)\n",
        "    img_resize = cv2.resize(img, (img_rows, img_cols)) \n",
        "    x_test_feature.append(img_resize)"
      ],
      "execution_count": 0,
      "outputs": [
        {
          "output_type": "stream",
          "text": [
            "100%|██████████| 10357/10357 [00:14<00:00, 692.45it/s]\n"
          ],
          "name": "stderr"
        }
      ]
    },
    {
      "cell_type": "markdown",
      "metadata": {
        "id": "9My6qSyDnE-_",
        "colab_type": "text"
      },
      "source": [
        "Normalize the test data and convert it into 4 dimensions"
      ]
    },
    {
      "cell_type": "code",
      "metadata": {
        "id": "93n-IntMnJGI",
        "colab_type": "code",
        "colab": {}
      },
      "source": [
        "x_test_feature = np.asanyarray(x_test_feature)"
      ],
      "execution_count": 0,
      "outputs": []
    },
    {
      "cell_type": "code",
      "metadata": {
        "id": "zFK2II9PAM5B",
        "colab_type": "code",
        "colab": {}
      },
      "source": [
        "x_test_feature = x_test_feature/255"
      ],
      "execution_count": 0,
      "outputs": []
    },
    {
      "cell_type": "code",
      "metadata": {
        "id": "94P2OChsA53d",
        "colab_type": "code",
        "colab": {}
      },
      "source": [
        "#Code to delete unused variables\n"
      ],
      "execution_count": 0,
      "outputs": []
    },
    {
      "cell_type": "markdown",
      "metadata": {
        "colab_type": "text",
        "id": "zKezNJVMsocP"
      },
      "source": [
        "### Build a basic conv neural network with 2 conv layers (kernel sizes - 5 and 3) add layers as mentioned below for classification.\n",
        "\n",
        "1. Add a Dense layer with 256 neurons with `relu` activation\n",
        "\n",
        "2. Add a Dense layer with 120 neurons as final layer (as there are 120 classes in the given dataset) with `softmax` activation for classifiaction. "
      ]
    },
    {
      "cell_type": "code",
      "metadata": {
        "id": "D2jxTY2S96J4",
        "colab_type": "code",
        "colab": {}
      },
      "source": [
        "from keras import Sequential\n",
        "from keras.layers import Dense,Activation,Flatten\n",
        "from keras.layers import Conv2D, MaxPooling2D, Dropout"
      ],
      "execution_count": 0,
      "outputs": []
    },
    {
      "cell_type": "code",
      "metadata": {
        "id": "f_BAvCzo96J6",
        "colab_type": "code",
        "colab": {
          "base_uri": "https://localhost:8080/",
          "height": 156
        },
        "outputId": "d11995b2-1374-42b7-c280-d94f5391f995"
      },
      "source": [
        "cnn = Sequential()\n",
        "cnn.add(Conv2D(32, (5, 5), activation='relu', input_shape=(128, 128, 3)))\n",
        "cnn.add(Conv2D(32, (3, 3), activation='relu'))\n",
        "\n",
        "cnn.add(Flatten())  # this converts our 3D feature maps to 1D feature vectors\n",
        "cnn.add(Dense(256, activation='relu'))\n",
        "\n",
        "cnn.add(Dense(120, activation='softmax'))"
      ],
      "execution_count": 33,
      "outputs": [
        {
          "output_type": "stream",
          "text": [
            "WARNING: Logging before flag parsing goes to stderr.\n",
            "W0619 18:14:19.660928 140387768059776 deprecation_wrapper.py:119] From /usr/local/lib/python3.6/dist-packages/keras/backend/tensorflow_backend.py:74: The name tf.get_default_graph is deprecated. Please use tf.compat.v1.get_default_graph instead.\n",
            "\n",
            "W0619 18:14:19.721809 140387768059776 deprecation_wrapper.py:119] From /usr/local/lib/python3.6/dist-packages/keras/backend/tensorflow_backend.py:517: The name tf.placeholder is deprecated. Please use tf.compat.v1.placeholder instead.\n",
            "\n",
            "W0619 18:14:19.750306 140387768059776 deprecation_wrapper.py:119] From /usr/local/lib/python3.6/dist-packages/keras/backend/tensorflow_backend.py:4138: The name tf.random_uniform is deprecated. Please use tf.random.uniform instead.\n",
            "\n"
          ],
          "name": "stderr"
        }
      ]
    },
    {
      "cell_type": "code",
      "metadata": {
        "id": "NzEn3R5XDx7T",
        "colab_type": "code",
        "outputId": "af5a7fbb-bfcd-4977-8433-85f6a945181b",
        "colab": {
          "base_uri": "https://localhost:8080/",
          "height": 306
        }
      },
      "source": [
        "cnn.summary()"
      ],
      "execution_count": 0,
      "outputs": [
        {
          "output_type": "stream",
          "text": [
            "_________________________________________________________________\n",
            "Layer (type)                 Output Shape              Param #   \n",
            "=================================================================\n",
            "conv2d_11 (Conv2D)           (None, 124, 124, 32)      2432      \n",
            "_________________________________________________________________\n",
            "conv2d_12 (Conv2D)           (None, 122, 122, 32)      9248      \n",
            "_________________________________________________________________\n",
            "flatten_5 (Flatten)          (None, 476288)            0         \n",
            "_________________________________________________________________\n",
            "dense_11 (Dense)             (None, 256)               121929984 \n",
            "_________________________________________________________________\n",
            "dense_12 (Dense)             (None, 120)               30840     \n",
            "=================================================================\n",
            "Total params: 121,972,504\n",
            "Trainable params: 121,972,504\n",
            "Non-trainable params: 0\n",
            "_________________________________________________________________\n"
          ],
          "name": "stdout"
        }
      ]
    },
    {
      "cell_type": "markdown",
      "metadata": {
        "id": "ui8EXw6_oqpR",
        "colab_type": "text"
      },
      "source": [
        "### Use batch_size = 128 and epochs = 10 and execute the model"
      ]
    },
    {
      "cell_type": "code",
      "metadata": {
        "id": "IriIc37NozbK",
        "colab_type": "code",
        "colab": {
          "base_uri": "https://localhost:8080/",
          "height": 105
        },
        "outputId": "0f2faf0e-d7b9-46cd-e510-7cb17f46494a"
      },
      "source": [
        "cnn.compile(loss='categorical_crossentropy', optimizer=\"sgd\", metrics=['accuracy'])"
      ],
      "execution_count": 38,
      "outputs": [
        {
          "output_type": "stream",
          "text": [
            "W0619 18:18:28.360494 140387768059776 deprecation_wrapper.py:119] From /usr/local/lib/python3.6/dist-packages/keras/optimizers.py:790: The name tf.train.Optimizer is deprecated. Please use tf.compat.v1.train.Optimizer instead.\n",
            "\n",
            "W0619 18:18:28.389461 140387768059776 deprecation_wrapper.py:119] From /usr/local/lib/python3.6/dist-packages/keras/backend/tensorflow_backend.py:3295: The name tf.log is deprecated. Please use tf.math.log instead.\n",
            "\n"
          ],
          "name": "stderr"
        }
      ]
    },
    {
      "cell_type": "code",
      "metadata": {
        "id": "0PR9j5_Xozmd",
        "colab_type": "code",
        "outputId": "48117445-e9c2-4b95-a604-3b9de877296d",
        "colab": {
          "base_uri": "https://localhost:8080/",
          "height": 391
        }
      },
      "source": [
        "cnn.fit(X_train,Y_train,          \n",
        "          validation_data=(X_validation,Y_validation),\n",
        "          epochs=10,\n",
        "          batch_size=128)"
      ],
      "execution_count": 0,
      "outputs": [
        {
          "output_type": "stream",
          "text": [
            "Train on 8177 samples, validate on 2045 samples\n",
            "Epoch 1/10\n",
            "8177/8177 [==============================] - 15s 2ms/step - loss: 4.7802 - acc: 0.0119 - val_loss: 4.7746 - val_acc: 0.0103\n",
            "Epoch 2/10\n",
            "8177/8177 [==============================] - 13s 2ms/step - loss: 4.7377 - acc: 0.0164 - val_loss: 4.7449 - val_acc: 0.0196\n",
            "Epoch 3/10\n",
            "8177/8177 [==============================] - 13s 2ms/step - loss: 4.6923 - acc: 0.0276 - val_loss: 4.7063 - val_acc: 0.0196\n",
            "Epoch 4/10\n",
            "8177/8177 [==============================] - 13s 2ms/step - loss: 4.6413 - acc: 0.0292 - val_loss: 4.6779 - val_acc: 0.0259\n",
            "Epoch 5/10\n",
            "8177/8177 [==============================] - 13s 2ms/step - loss: 4.5752 - acc: 0.0395 - val_loss: 4.6504 - val_acc: 0.0259\n",
            "Epoch 6/10\n",
            "8177/8177 [==============================] - 13s 2ms/step - loss: 4.4924 - acc: 0.0477 - val_loss: 4.6068 - val_acc: 0.0328\n",
            "Epoch 7/10\n",
            "8177/8177 [==============================] - 13s 2ms/step - loss: 4.3984 - acc: 0.0574 - val_loss: 4.5798 - val_acc: 0.0357\n",
            "Epoch 8/10\n",
            "8177/8177 [==============================] - 13s 2ms/step - loss: 4.2830 - acc: 0.0734 - val_loss: 4.5506 - val_acc: 0.0396\n",
            "Epoch 9/10\n",
            "8177/8177 [==============================] - 13s 2ms/step - loss: 4.1815 - acc: 0.0888 - val_loss: 4.5596 - val_acc: 0.0484\n",
            "Epoch 10/10\n",
            "8177/8177 [==============================] - 13s 2ms/step - loss: 4.0506 - acc: 0.1102 - val_loss: 4.5850 - val_acc: 0.0435\n"
          ],
          "name": "stdout"
        },
        {
          "output_type": "execute_result",
          "data": {
            "text/plain": [
              "<keras.callbacks.History at 0x7f71c12044a8>"
            ]
          },
          "metadata": {
            "tags": []
          },
          "execution_count": 49
        }
      ]
    },
    {
      "cell_type": "markdown",
      "metadata": {
        "id": "Z8hWaKmjoz69",
        "colab_type": "text"
      },
      "source": [
        "#The model accuracy is very poor !!!!"
      ]
    },
    {
      "cell_type": "markdown",
      "metadata": {
        "colab_type": "text",
        "id": "agJKkc6xtKiq"
      },
      "source": [
        "### Use Data Augmentation in the above model to see if the accuracy improves\n"
      ]
    },
    {
      "cell_type": "code",
      "metadata": {
        "colab_type": "code",
        "id": "31Mn8qnZb3Ru",
        "colab": {
          "base_uri": "https://localhost:8080/",
          "height": 34
        },
        "outputId": "deb0b6b4-069f-466a-d56b-dd338bf65b39"
      },
      "source": [
        "from keras.preprocessing.image import ImageDataGenerator , load_img ,img_to_array"
      ],
      "execution_count": 56,
      "outputs": [
        {
          "output_type": "stream",
          "text": [
            "Using TensorFlow backend.\n"
          ],
          "name": "stderr"
        }
      ]
    },
    {
      "cell_type": "code",
      "metadata": {
        "id": "gDLQVFDP96KI",
        "colab_type": "code",
        "colab": {}
      },
      "source": [
        "# this will do preprocessing and realtime data augmentation\n",
        "datagen = ImageDataGenerator(\n",
        "    featurewise_center=False,  # set input mean to 0 over the dataset\n",
        "    samplewise_center=False,  # set each sample mean to 0\n",
        "    featurewise_std_normalization=False,  # divide inputs by std of the dataset\n",
        "    samplewise_std_normalization=False,  # divide each input by its std\n",
        "    rotation_range=25,  # randomly rotate images in the range (degrees, 0 to 180)\n",
        "    width_shift_range=0.1,  # randomly shift images horizontally (fraction of total width)\n",
        "    height_shift_range=0.1,  # randomly shift images vertically (fraction of total height)\n",
        "    horizontal_flip=False,  # randomly flip images\n",
        "    vertical_flip=False)  # randomly flip images"
      ],
      "execution_count": 0,
      "outputs": []
    },
    {
      "cell_type": "code",
      "metadata": {
        "colab_type": "code",
        "id": "bqTlW0qHb3Xb",
        "colab": {}
      },
      "source": [
        ""
      ],
      "execution_count": 0,
      "outputs": []
    },
    {
      "cell_type": "markdown",
      "metadata": {
        "colab_type": "text",
        "id": "6sssbaTfxlkk"
      },
      "source": [
        "### Using the above objects, create the image generators with variable names `train_generator` and `val_generator`\n",
        "\n",
        "You need to use train_datagen.flow() and val_datagen.flow()"
      ]
    },
    {
      "cell_type": "code",
      "metadata": {
        "id": "sehaRgT-96KQ",
        "colab_type": "code",
        "colab": {}
      },
      "source": [
        "train_generator = datagen.flow(X_train, Y_train, batch_size=32)\n",
        "val_generator = datagen.flow(X_validation, Y_validation, batch_size=32)"
      ],
      "execution_count": 0,
      "outputs": []
    },
    {
      "cell_type": "code",
      "metadata": {
        "id": "Z2IGS36Y-gnO",
        "colab_type": "code",
        "colab": {
          "base_uri": "https://localhost:8080/",
          "height": 357
        },
        "outputId": "b79f79d2-4c18-459d-a84e-6c5efa7ead41"
      },
      "source": [
        "tf.keras.backend.clear_session()\n",
        "\n",
        "from keras.models import Sequential\n",
        "\n",
        "from keras.layers import Conv2D, MaxPooling2D, Activation, Flatten, Dense, Dropout\n",
        "\n",
        "#Initialize model, reshape & normalize data\n",
        "model = tf.keras.models.Sequential()\n",
        "\n",
        "#Add first convolutional layer\n",
        "model.add(tf.keras.layers.Conv2D(32, #Number of filters \n",
        "                                 kernel_size=(5,5), #Size of the filter\n",
        "                                 activation='relu'\n",
        "                                , input_shape=(128,128,3)))\n",
        "\n",
        "\n",
        "\n",
        "#Add second  convolutional layer\n",
        "model.add(tf.keras.layers.Conv2D(32, #Number of filters \n",
        "                                 kernel_size=(3,3), #Size of the filter\n",
        "                                 activation='relu'\n",
        "                                , input_shape=(128,128,3)))\n",
        "\n",
        "model.add(tf.keras.layers.Dropout(0.25))\n",
        "\n",
        "#Flatten the output\n",
        "model.add(tf.keras.layers.Flatten())\n",
        "\n",
        "#Dense layer\n",
        "model.add(tf.keras.layers.Dense(256, activation='relu'))\n",
        "\n",
        "#Dense layer\n",
        "model.add(tf.keras.layers.Dense(120, activation='softmax'))\n",
        "\n",
        "\n",
        "model.compile(optimizer='adam', \n",
        "              loss='categorical_crossentropy', metrics=['accuracy'])\n",
        "\n",
        "model.summary()\n"
      ],
      "execution_count": 62,
      "outputs": [
        {
          "output_type": "stream",
          "text": [
            "Model: \"sequential\"\n",
            "_________________________________________________________________\n",
            "Layer (type)                 Output Shape              Param #   \n",
            "=================================================================\n",
            "conv2d (Conv2D)              (None, 124, 124, 32)      2432      \n",
            "_________________________________________________________________\n",
            "conv2d_1 (Conv2D)            (None, 122, 122, 32)      9248      \n",
            "_________________________________________________________________\n",
            "dropout (Dropout)            (None, 122, 122, 32)      0         \n",
            "_________________________________________________________________\n",
            "flatten (Flatten)            (None, 476288)            0         \n",
            "_________________________________________________________________\n",
            "dense (Dense)                (None, 256)               121929984 \n",
            "_________________________________________________________________\n",
            "dense_1 (Dense)              (None, 120)               30840     \n",
            "=================================================================\n",
            "Total params: 121,972,504\n",
            "Trainable params: 121,972,504\n",
            "Non-trainable params: 0\n",
            "_________________________________________________________________\n"
          ],
          "name": "stdout"
        }
      ]
    },
    {
      "cell_type": "markdown",
      "metadata": {
        "colab_type": "text",
        "id": "TVFQJZw3x4-C"
      },
      "source": [
        "### Fit the model using fit_generator() using `train_generator` and `val_generator` from the above step with 10 epochs"
      ]
    },
    {
      "cell_type": "code",
      "metadata": {
        "colab_type": "code",
        "id": "J1K2MqHbuPUa",
        "colab": {
          "base_uri": "https://localhost:8080/",
          "height": 357
        },
        "outputId": "f67d6366-7252-4da4-f389-1d5e5ee4fb45"
      },
      "source": [
        "# Set up the generator\n",
        "#Train the model\n",
        "history = model.fit_generator(train_generator, \n",
        "                             validation_data=val_generator , use_multiprocessing=True,\n",
        "                     steps_per_epoch=len(X_train) / 32, epochs=10)"
      ],
      "execution_count": 63,
      "outputs": [
        {
          "output_type": "stream",
          "text": [
            "Epoch 1/10\n",
            "256/255 [==============================] - 45s 178ms/step - loss: 5.2474 - acc: 0.0113 - val_loss: 4.7812 - val_acc: 0.0137\n",
            "Epoch 2/10\n",
            "256/255 [==============================] - 41s 160ms/step - loss: 4.7355 - acc: 0.0191 - val_loss: 4.7198 - val_acc: 0.0093\n",
            "Epoch 3/10\n",
            "256/255 [==============================] - 41s 162ms/step - loss: 4.6533 - acc: 0.0227 - val_loss: 4.7180 - val_acc: 0.0186\n",
            "Epoch 4/10\n",
            "256/255 [==============================] - 42s 163ms/step - loss: 4.5911 - acc: 0.0289 - val_loss: 4.6310 - val_acc: 0.0186\n",
            "Epoch 5/10\n",
            "256/255 [==============================] - 41s 161ms/step - loss: 4.5367 - acc: 0.0352 - val_loss: 4.5884 - val_acc: 0.0244\n",
            "Epoch 6/10\n",
            "256/255 [==============================] - 41s 161ms/step - loss: 4.4916 - acc: 0.0339 - val_loss: 4.5589 - val_acc: 0.0289\n",
            "Epoch 7/10\n",
            "256/255 [==============================] - 42s 163ms/step - loss: 4.4833 - acc: 0.0373 - val_loss: 4.5867 - val_acc: 0.0196\n",
            "Epoch 8/10\n",
            "256/255 [==============================] - 41s 159ms/step - loss: 4.4553 - acc: 0.0451 - val_loss: 4.5659 - val_acc: 0.0313\n",
            "Epoch 9/10\n",
            "256/255 [==============================] - 40s 158ms/step - loss: 4.4000 - acc: 0.0479 - val_loss: 4.5463 - val_acc: 0.0381\n",
            "Epoch 10/10\n",
            "256/255 [==============================] - 41s 159ms/step - loss: 4.3646 - acc: 0.0553 - val_loss: 4.5121 - val_acc: 0.0323\n"
          ],
          "name": "stdout"
        }
      ]
    },
    {
      "cell_type": "code",
      "metadata": {
        "id": "Cvh8Pud0LI2t",
        "colab_type": "code",
        "colab": {}
      },
      "source": [
        ""
      ],
      "execution_count": 0,
      "outputs": []
    },
    {
      "cell_type": "markdown",
      "metadata": {
        "id": "Q2zmLztqo5DY",
        "colab_type": "text"
      },
      "source": [
        "# Model accuracy is still poor!!!"
      ]
    },
    {
      "cell_type": "markdown",
      "metadata": {
        "id": "rSTATrhsAo7L",
        "colab_type": "text"
      },
      "source": [
        "### Lets use Transfer Learning\n",
        "\n",
        "Download the vgg wieght file from here : https://github.com/MinerKasch/applied_deep_learning/blob/master/vgg16_weights_tf_dim_ordering_tf_kernels_notop.h5"
      ]
    },
    {
      "cell_type": "markdown",
      "metadata": {
        "id": "zy5JdbW6pIvD",
        "colab_type": "text"
      },
      "source": [
        "Use the below code to load VGG16 weights trained on ImageNet"
      ]
    },
    {
      "cell_type": "code",
      "metadata": {
        "id": "yrqs0zg7ApNw",
        "colab_type": "code",
        "colab": {
          "base_uri": "https://localhost:8080/",
          "height": 241
        },
        "outputId": "e2a81bca-5eee-4aec-bd42-ae3a8c2e7307"
      },
      "source": [
        "from keras.applications.vgg16 import VGG16, preprocess_input\n",
        "# Instantiate the model with the pre-trained weights (no top)\n",
        "base_model= VGG16(weights=(project_path+'vgg16_weights_tf_dim_ordering_tf_kernels_notop.h5'),\n",
        "                 include_top=False, pooling='avg')"
      ],
      "execution_count": 71,
      "outputs": [
        {
          "output_type": "stream",
          "text": [
            "W0619 20:30:16.389588 139806548502400 deprecation_wrapper.py:119] From /usr/local/lib/python3.6/dist-packages/keras/backend/tensorflow_backend.py:74: The name tf.get_default_graph is deprecated. Please use tf.compat.v1.get_default_graph instead.\n",
            "\n",
            "W0619 20:30:16.392287 139806548502400 deprecation_wrapper.py:119] From /usr/local/lib/python3.6/dist-packages/keras/backend/tensorflow_backend.py:517: The name tf.placeholder is deprecated. Please use tf.compat.v1.placeholder instead.\n",
            "\n",
            "W0619 20:30:16.405667 139806548502400 deprecation_wrapper.py:119] From /usr/local/lib/python3.6/dist-packages/keras/backend/tensorflow_backend.py:4138: The name tf.random_uniform is deprecated. Please use tf.random.uniform instead.\n",
            "\n",
            "W0619 20:30:16.435489 139806548502400 deprecation_wrapper.py:119] From /usr/local/lib/python3.6/dist-packages/keras/backend/tensorflow_backend.py:3976: The name tf.nn.max_pool is deprecated. Please use tf.nn.max_pool2d instead.\n",
            "\n",
            "W0619 20:30:17.992282 139806548502400 deprecation_wrapper.py:119] From /usr/local/lib/python3.6/dist-packages/keras/backend/tensorflow_backend.py:174: The name tf.get_default_session is deprecated. Please use tf.compat.v1.get_default_session instead.\n",
            "\n",
            "W0619 20:30:17.993467 139806548502400 deprecation_wrapper.py:119] From /usr/local/lib/python3.6/dist-packages/keras/backend/tensorflow_backend.py:181: The name tf.ConfigProto is deprecated. Please use tf.compat.v1.ConfigProto instead.\n",
            "\n"
          ],
          "name": "stderr"
        }
      ]
    },
    {
      "cell_type": "markdown",
      "metadata": {
        "id": "EItOlRBGpV_A",
        "colab_type": "text"
      },
      "source": [
        "Print the summary of the base_model"
      ]
    },
    {
      "cell_type": "code",
      "metadata": {
        "id": "lQsEBgnlpHjH",
        "colab_type": "code",
        "colab": {
          "base_uri": "https://localhost:8080/",
          "height": 816
        },
        "outputId": "b183a92b-2593-4298-cf91-d255c344c33d"
      },
      "source": [
        "base_model.summary()"
      ],
      "execution_count": 72,
      "outputs": [
        {
          "output_type": "stream",
          "text": [
            "_________________________________________________________________\n",
            "Layer (type)                 Output Shape              Param #   \n",
            "=================================================================\n",
            "input_1 (InputLayer)         (None, None, None, 3)     0         \n",
            "_________________________________________________________________\n",
            "block1_conv1 (Conv2D)        (None, None, None, 64)    1792      \n",
            "_________________________________________________________________\n",
            "block1_conv2 (Conv2D)        (None, None, None, 64)    36928     \n",
            "_________________________________________________________________\n",
            "block1_pool (MaxPooling2D)   (None, None, None, 64)    0         \n",
            "_________________________________________________________________\n",
            "block2_conv1 (Conv2D)        (None, None, None, 128)   73856     \n",
            "_________________________________________________________________\n",
            "block2_conv2 (Conv2D)        (None, None, None, 128)   147584    \n",
            "_________________________________________________________________\n",
            "block2_pool (MaxPooling2D)   (None, None, None, 128)   0         \n",
            "_________________________________________________________________\n",
            "block3_conv1 (Conv2D)        (None, None, None, 256)   295168    \n",
            "_________________________________________________________________\n",
            "block3_conv2 (Conv2D)        (None, None, None, 256)   590080    \n",
            "_________________________________________________________________\n",
            "block3_conv3 (Conv2D)        (None, None, None, 256)   590080    \n",
            "_________________________________________________________________\n",
            "block3_pool (MaxPooling2D)   (None, None, None, 256)   0         \n",
            "_________________________________________________________________\n",
            "block4_conv1 (Conv2D)        (None, None, None, 512)   1180160   \n",
            "_________________________________________________________________\n",
            "block4_conv2 (Conv2D)        (None, None, None, 512)   2359808   \n",
            "_________________________________________________________________\n",
            "block4_conv3 (Conv2D)        (None, None, None, 512)   2359808   \n",
            "_________________________________________________________________\n",
            "block4_pool (MaxPooling2D)   (None, None, None, 512)   0         \n",
            "_________________________________________________________________\n",
            "block5_conv1 (Conv2D)        (None, None, None, 512)   2359808   \n",
            "_________________________________________________________________\n",
            "block5_conv2 (Conv2D)        (None, None, None, 512)   2359808   \n",
            "_________________________________________________________________\n",
            "block5_conv3 (Conv2D)        (None, None, None, 512)   2359808   \n",
            "_________________________________________________________________\n",
            "block5_pool (MaxPooling2D)   (None, None, None, 512)   0         \n",
            "_________________________________________________________________\n",
            "global_average_pooling2d_1 ( (None, 512)               0         \n",
            "=================================================================\n",
            "Total params: 14,714,688\n",
            "Trainable params: 14,714,688\n",
            "Non-trainable params: 0\n",
            "_________________________________________________________________\n"
          ],
          "name": "stdout"
        }
      ]
    },
    {
      "cell_type": "markdown",
      "metadata": {
        "id": "fHpeOyW0qauW",
        "colab_type": "text"
      },
      "source": [
        "### Add the following classification layers to the imported VGG Model <br>\n",
        "1. Flatten Layer\n",
        "2. Dense layer with 1024 neurons with activation as Relu\n",
        "3. Dense layer with 256 neurons with activation as Relu\n",
        "4. Dense layer with 120 neurons with activation as Softmax"
      ]
    },
    {
      "cell_type": "code",
      "metadata": {
        "id": "0BpT4MLkqoaO",
        "colab_type": "code",
        "colab": {}
      },
      "source": [
        ""
      ],
      "execution_count": 0,
      "outputs": []
    },
    {
      "cell_type": "markdown",
      "metadata": {
        "id": "LeQem0pHITIj",
        "colab_type": "text"
      },
      "source": [
        "### Make all the layers in the base_model (VGG16) to be non-trainable"
      ]
    },
    {
      "cell_type": "code",
      "metadata": {
        "id": "C7w9CSPvIRnX",
        "colab_type": "code",
        "colab": {}
      },
      "source": [
        "import tensorflow as tf\n",
        "from keras.models import Sequential\n",
        "from keras.layers import Dense, Dropout \n",
        "from keras.layers.normalization import BatchNormalization\n",
        "\n",
        "\n",
        "model_transfer = Sequential()\n",
        "model_transfer.add(Dense(1024,input_dim=512, activation='relu'))\n",
        "model_transfer.add(BatchNormalization())\n",
        "model_transfer.add(Dropout(0.80))\n",
        "model_transfer.add(Dense(256, activation='relu'))\n",
        "model_transfer.add(BatchNormalization())\n",
        "model_transfer.add(Dropout(0.20))\n",
        "model_transfer.add(Dense(256, activation='relu'))\n",
        "model_transfer.add(BatchNormalization())\n",
        "model_transfer.add(Dropout(0.40))\n",
        "\n",
        "model_transfer.add(Dense(120,activation='softmax'))\n",
        "model_transfer.compile(optimizer='adam', \n",
        "              loss='categorical_crossentropy', metrics=['accuracy'])"
      ],
      "execution_count": 0,
      "outputs": []
    },
    {
      "cell_type": "code",
      "metadata": {
        "id": "vBKoEadRchFV",
        "colab_type": "code",
        "colab": {
          "base_uri": "https://localhost:8080/",
          "height": 697
        },
        "outputId": "c708c5cf-4112-4c08-97a1-3919e5edc31a"
      },
      "source": [
        "#Freezing layers in the model which don't have 'dense' in their name\n",
        "for layer in base_model.layers:\n",
        "  if('dense' not in layer.name): #prefix detection to freeze layers which does not have dense\n",
        "    #Freezing a layer\n",
        "    layer.trainable = False\n",
        "\n",
        "#Module to print colourful statements\n",
        "from termcolor import colored\n",
        "\n",
        "#Check which layers have been frozen \n",
        "for layer in base_model.layers:\n",
        "  print (colored(layer.name, 'blue'))\n",
        "  print (colored(layer.trainable, 'red'))"
      ],
      "execution_count": 106,
      "outputs": [
        {
          "output_type": "stream",
          "text": [
            "\u001b[34minput_1\u001b[0m\n",
            "\u001b[31mFalse\u001b[0m\n",
            "\u001b[34mblock1_conv1\u001b[0m\n",
            "\u001b[31mFalse\u001b[0m\n",
            "\u001b[34mblock1_conv2\u001b[0m\n",
            "\u001b[31mFalse\u001b[0m\n",
            "\u001b[34mblock1_pool\u001b[0m\n",
            "\u001b[31mFalse\u001b[0m\n",
            "\u001b[34mblock2_conv1\u001b[0m\n",
            "\u001b[31mFalse\u001b[0m\n",
            "\u001b[34mblock2_conv2\u001b[0m\n",
            "\u001b[31mFalse\u001b[0m\n",
            "\u001b[34mblock2_pool\u001b[0m\n",
            "\u001b[31mFalse\u001b[0m\n",
            "\u001b[34mblock3_conv1\u001b[0m\n",
            "\u001b[31mFalse\u001b[0m\n",
            "\u001b[34mblock3_conv2\u001b[0m\n",
            "\u001b[31mFalse\u001b[0m\n",
            "\u001b[34mblock3_conv3\u001b[0m\n",
            "\u001b[31mFalse\u001b[0m\n",
            "\u001b[34mblock3_pool\u001b[0m\n",
            "\u001b[31mFalse\u001b[0m\n",
            "\u001b[34mblock4_conv1\u001b[0m\n",
            "\u001b[31mFalse\u001b[0m\n",
            "\u001b[34mblock4_conv2\u001b[0m\n",
            "\u001b[31mFalse\u001b[0m\n",
            "\u001b[34mblock4_conv3\u001b[0m\n",
            "\u001b[31mFalse\u001b[0m\n",
            "\u001b[34mblock4_pool\u001b[0m\n",
            "\u001b[31mFalse\u001b[0m\n",
            "\u001b[34mblock5_conv1\u001b[0m\n",
            "\u001b[31mFalse\u001b[0m\n",
            "\u001b[34mblock5_conv2\u001b[0m\n",
            "\u001b[31mFalse\u001b[0m\n",
            "\u001b[34mblock5_conv3\u001b[0m\n",
            "\u001b[31mFalse\u001b[0m\n",
            "\u001b[34mblock5_pool\u001b[0m\n",
            "\u001b[31mFalse\u001b[0m\n",
            "\u001b[34mglobal_average_pooling2d_1\u001b[0m\n",
            "\u001b[31mFalse\u001b[0m\n"
          ],
          "name": "stdout"
        }
      ]
    },
    {
      "cell_type": "markdown",
      "metadata": {
        "id": "kj-BwqgfIkdv",
        "colab_type": "text"
      },
      "source": [
        "### Fit and compile the model with batch_size = 128 and epochs = 10 and execute the model"
      ]
    },
    {
      "cell_type": "markdown",
      "metadata": {
        "id": "YD5fAgVQIpKZ",
        "colab_type": "text"
      },
      "source": [
        "Try to get training and validation accuracy to be more than 90%"
      ]
    },
    {
      "cell_type": "code",
      "metadata": {
        "id": "SZk2SWvjIoRP",
        "colab_type": "code",
        "colab": {}
      },
      "source": [
        "x_train_5 = base_model.predict(X_train)\n",
        "\n",
        "X_valid_5 = base_model.predict(X_validation)"
      ],
      "execution_count": 0,
      "outputs": []
    },
    {
      "cell_type": "code",
      "metadata": {
        "id": "7vnGYyhjc4_a",
        "colab_type": "code",
        "colab": {
          "base_uri": "https://localhost:8080/",
          "height": 3434
        },
        "outputId": "1f98867e-0187-4e01-c30d-affe6d4e9f61"
      },
      "source": [
        "output_transfer = model_transfer.fit(x_train_5, Y_train, \n",
        "                                      validation_data=(X_valid_5, Y_validation),\n",
        "                                      batch_size=128, epochs=100, verbose=1)"
      ],
      "execution_count": 108,
      "outputs": [
        {
          "output_type": "stream",
          "text": [
            "Train on 8177 samples, validate on 2045 samples\n",
            "Epoch 1/100\n",
            "8177/8177 [==============================] - 3s 324us/step - loss: 5.5075 - acc: 0.0125 - val_loss: 4.5129 - val_acc: 0.0435\n",
            "Epoch 2/100\n",
            "8177/8177 [==============================] - 1s 75us/step - loss: 4.8710 - acc: 0.0325 - val_loss: 4.1149 - val_acc: 0.0949\n",
            "Epoch 3/100\n",
            "8177/8177 [==============================] - 1s 72us/step - loss: 4.4838 - acc: 0.0558 - val_loss: 3.8726 - val_acc: 0.1134\n",
            "Epoch 4/100\n",
            "8177/8177 [==============================] - 1s 75us/step - loss: 4.1921 - acc: 0.0762 - val_loss: 3.7500 - val_acc: 0.1320\n",
            "Epoch 5/100\n",
            "8177/8177 [==============================] - 1s 74us/step - loss: 3.9504 - acc: 0.1016 - val_loss: 3.5935 - val_acc: 0.1472\n",
            "Epoch 6/100\n",
            "8177/8177 [==============================] - 1s 73us/step - loss: 3.8224 - acc: 0.1198 - val_loss: 3.4876 - val_acc: 0.1623\n",
            "Epoch 7/100\n",
            "8177/8177 [==============================] - 1s 75us/step - loss: 3.6916 - acc: 0.1412 - val_loss: 3.3886 - val_acc: 0.1927\n",
            "Epoch 8/100\n",
            "8177/8177 [==============================] - 1s 74us/step - loss: 3.6088 - acc: 0.1416 - val_loss: 3.3752 - val_acc: 0.1888\n",
            "Epoch 9/100\n",
            "8177/8177 [==============================] - 1s 75us/step - loss: 3.5043 - acc: 0.1559 - val_loss: 3.2854 - val_acc: 0.2103\n",
            "Epoch 10/100\n",
            "8177/8177 [==============================] - 1s 72us/step - loss: 3.4361 - acc: 0.1792 - val_loss: 3.2692 - val_acc: 0.2024\n",
            "Epoch 11/100\n",
            "8177/8177 [==============================] - 1s 74us/step - loss: 3.3672 - acc: 0.1763 - val_loss: 3.2773 - val_acc: 0.2010\n",
            "Epoch 12/100\n",
            "8177/8177 [==============================] - 1s 75us/step - loss: 3.3354 - acc: 0.1874 - val_loss: 3.2023 - val_acc: 0.2112\n",
            "Epoch 13/100\n",
            "8177/8177 [==============================] - 1s 73us/step - loss: 3.2641 - acc: 0.2006 - val_loss: 3.1725 - val_acc: 0.2220\n",
            "Epoch 14/100\n",
            "8177/8177 [==============================] - 1s 71us/step - loss: 3.2273 - acc: 0.2022 - val_loss: 3.1128 - val_acc: 0.2313\n",
            "Epoch 15/100\n",
            "8177/8177 [==============================] - 1s 72us/step - loss: 3.1837 - acc: 0.2190 - val_loss: 3.1041 - val_acc: 0.2259\n",
            "Epoch 16/100\n",
            "8177/8177 [==============================] - 1s 75us/step - loss: 3.1656 - acc: 0.2125 - val_loss: 3.0938 - val_acc: 0.2421\n",
            "Epoch 17/100\n",
            "8177/8177 [==============================] - 1s 76us/step - loss: 3.1086 - acc: 0.2264 - val_loss: 3.0680 - val_acc: 0.2411\n",
            "Epoch 18/100\n",
            "8177/8177 [==============================] - 1s 71us/step - loss: 3.0790 - acc: 0.2393 - val_loss: 3.0938 - val_acc: 0.2372\n",
            "Epoch 19/100\n",
            "8177/8177 [==============================] - 1s 73us/step - loss: 3.0431 - acc: 0.2432 - val_loss: 3.0487 - val_acc: 0.2411\n",
            "Epoch 20/100\n",
            "8177/8177 [==============================] - 1s 70us/step - loss: 3.0511 - acc: 0.2374 - val_loss: 3.0770 - val_acc: 0.2328\n",
            "Epoch 21/100\n",
            "8177/8177 [==============================] - 1s 74us/step - loss: 3.0125 - acc: 0.2483 - val_loss: 3.0301 - val_acc: 0.2513\n",
            "Epoch 22/100\n",
            "8177/8177 [==============================] - 1s 70us/step - loss: 2.9847 - acc: 0.2516 - val_loss: 3.0864 - val_acc: 0.2337\n",
            "Epoch 23/100\n",
            "8177/8177 [==============================] - 1s 73us/step - loss: 2.9652 - acc: 0.2538 - val_loss: 3.1365 - val_acc: 0.2240\n",
            "Epoch 24/100\n",
            "8177/8177 [==============================] - 1s 71us/step - loss: 2.9548 - acc: 0.2542 - val_loss: 3.0364 - val_acc: 0.2465\n",
            "Epoch 25/100\n",
            "8177/8177 [==============================] - 1s 71us/step - loss: 2.9243 - acc: 0.2600 - val_loss: 3.0280 - val_acc: 0.2455\n",
            "Epoch 26/100\n",
            "8177/8177 [==============================] - 1s 72us/step - loss: 2.8901 - acc: 0.2656 - val_loss: 3.0438 - val_acc: 0.2425\n",
            "Epoch 27/100\n",
            "8177/8177 [==============================] - 1s 72us/step - loss: 2.8813 - acc: 0.2657 - val_loss: 3.0209 - val_acc: 0.2455\n",
            "Epoch 28/100\n",
            "8177/8177 [==============================] - 1s 73us/step - loss: 2.8491 - acc: 0.2709 - val_loss: 3.0161 - val_acc: 0.2421\n",
            "Epoch 29/100\n",
            "8177/8177 [==============================] - 1s 73us/step - loss: 2.8564 - acc: 0.2723 - val_loss: 3.0212 - val_acc: 0.2465\n",
            "Epoch 30/100\n",
            "8177/8177 [==============================] - 1s 72us/step - loss: 2.8319 - acc: 0.2825 - val_loss: 3.0570 - val_acc: 0.2425\n",
            "Epoch 31/100\n",
            "8177/8177 [==============================] - 1s 73us/step - loss: 2.8103 - acc: 0.2823 - val_loss: 3.0303 - val_acc: 0.2406\n",
            "Epoch 32/100\n",
            "8177/8177 [==============================] - 1s 72us/step - loss: 2.8228 - acc: 0.2752 - val_loss: 2.9935 - val_acc: 0.2469\n",
            "Epoch 33/100\n",
            "8177/8177 [==============================] - 1s 73us/step - loss: 2.7954 - acc: 0.2829 - val_loss: 3.0207 - val_acc: 0.2533\n",
            "Epoch 34/100\n",
            "8177/8177 [==============================] - 1s 71us/step - loss: 2.7636 - acc: 0.2925 - val_loss: 3.0171 - val_acc: 0.2523\n",
            "Epoch 35/100\n",
            "8177/8177 [==============================] - 1s 76us/step - loss: 2.7615 - acc: 0.2958 - val_loss: 3.0149 - val_acc: 0.2465\n",
            "Epoch 36/100\n",
            "8177/8177 [==============================] - 1s 76us/step - loss: 2.7544 - acc: 0.2927 - val_loss: 3.0417 - val_acc: 0.2440\n",
            "Epoch 37/100\n",
            "8177/8177 [==============================] - 1s 72us/step - loss: 2.7383 - acc: 0.2977 - val_loss: 3.0401 - val_acc: 0.2445\n",
            "Epoch 38/100\n",
            "8177/8177 [==============================] - 1s 72us/step - loss: 2.7325 - acc: 0.2951 - val_loss: 3.0064 - val_acc: 0.2533\n",
            "Epoch 39/100\n",
            "8177/8177 [==============================] - 1s 72us/step - loss: 2.7244 - acc: 0.2946 - val_loss: 3.0254 - val_acc: 0.2411\n",
            "Epoch 40/100\n",
            "8177/8177 [==============================] - 1s 71us/step - loss: 2.7046 - acc: 0.3035 - val_loss: 3.0353 - val_acc: 0.2528\n",
            "Epoch 41/100\n",
            "8177/8177 [==============================] - 1s 72us/step - loss: 2.7066 - acc: 0.3133 - val_loss: 3.0068 - val_acc: 0.2528\n",
            "Epoch 42/100\n",
            "8177/8177 [==============================] - 1s 71us/step - loss: 2.6833 - acc: 0.3065 - val_loss: 3.0276 - val_acc: 0.2484\n",
            "Epoch 43/100\n",
            "8177/8177 [==============================] - 1s 71us/step - loss: 2.6426 - acc: 0.3111 - val_loss: 3.0010 - val_acc: 0.2489\n",
            "Epoch 44/100\n",
            "8177/8177 [==============================] - 1s 72us/step - loss: 2.6517 - acc: 0.3132 - val_loss: 3.0151 - val_acc: 0.2616\n",
            "Epoch 45/100\n",
            "8177/8177 [==============================] - 1s 73us/step - loss: 2.6475 - acc: 0.3081 - val_loss: 3.0272 - val_acc: 0.2650\n",
            "Epoch 46/100\n",
            "8177/8177 [==============================] - 1s 71us/step - loss: 2.6322 - acc: 0.3123 - val_loss: 3.0385 - val_acc: 0.2528\n",
            "Epoch 47/100\n",
            "8177/8177 [==============================] - 1s 72us/step - loss: 2.6409 - acc: 0.3143 - val_loss: 3.0146 - val_acc: 0.2479\n",
            "Epoch 48/100\n",
            "8177/8177 [==============================] - 1s 71us/step - loss: 2.6169 - acc: 0.3210 - val_loss: 3.0274 - val_acc: 0.2494\n",
            "Epoch 49/100\n",
            "8177/8177 [==============================] - 1s 73us/step - loss: 2.5925 - acc: 0.3255 - val_loss: 3.0264 - val_acc: 0.2469\n",
            "Epoch 50/100\n",
            "8177/8177 [==============================] - 1s 74us/step - loss: 2.6098 - acc: 0.3252 - val_loss: 3.0307 - val_acc: 0.2499\n",
            "Epoch 51/100\n",
            "8177/8177 [==============================] - 1s 71us/step - loss: 2.6005 - acc: 0.3273 - val_loss: 3.0010 - val_acc: 0.2572\n",
            "Epoch 52/100\n",
            "8177/8177 [==============================] - 1s 74us/step - loss: 2.6055 - acc: 0.3277 - val_loss: 3.0431 - val_acc: 0.2597\n",
            "Epoch 53/100\n",
            "8177/8177 [==============================] - 1s 74us/step - loss: 2.5869 - acc: 0.3237 - val_loss: 3.0153 - val_acc: 0.2582\n",
            "Epoch 54/100\n",
            "8177/8177 [==============================] - 1s 74us/step - loss: 2.5716 - acc: 0.3298 - val_loss: 3.0114 - val_acc: 0.2597\n",
            "Epoch 55/100\n",
            "8177/8177 [==============================] - 1s 73us/step - loss: 2.5613 - acc: 0.3315 - val_loss: 3.0387 - val_acc: 0.2513\n",
            "Epoch 56/100\n",
            "8177/8177 [==============================] - 1s 73us/step - loss: 2.5563 - acc: 0.3258 - val_loss: 3.0856 - val_acc: 0.2469\n",
            "Epoch 57/100\n",
            "8177/8177 [==============================] - 1s 73us/step - loss: 2.5342 - acc: 0.3363 - val_loss: 3.0569 - val_acc: 0.2494\n",
            "Epoch 58/100\n",
            "8177/8177 [==============================] - 1s 71us/step - loss: 2.5394 - acc: 0.3341 - val_loss: 3.0218 - val_acc: 0.2567\n",
            "Epoch 59/100\n",
            "8177/8177 [==============================] - 1s 73us/step - loss: 2.5334 - acc: 0.3330 - val_loss: 3.0305 - val_acc: 0.2538\n",
            "Epoch 60/100\n",
            "8177/8177 [==============================] - 1s 70us/step - loss: 2.4981 - acc: 0.3454 - val_loss: 3.0331 - val_acc: 0.2645\n",
            "Epoch 61/100\n",
            "8177/8177 [==============================] - 1s 73us/step - loss: 2.5157 - acc: 0.3379 - val_loss: 3.0738 - val_acc: 0.2601\n",
            "Epoch 62/100\n",
            "8177/8177 [==============================] - 1s 71us/step - loss: 2.5009 - acc: 0.3418 - val_loss: 3.0359 - val_acc: 0.2543\n",
            "Epoch 63/100\n",
            "8177/8177 [==============================] - 1s 73us/step - loss: 2.5157 - acc: 0.3337 - val_loss: 3.0363 - val_acc: 0.2499\n",
            "Epoch 64/100\n",
            "8177/8177 [==============================] - 1s 71us/step - loss: 2.4822 - acc: 0.3405 - val_loss: 3.0995 - val_acc: 0.2533\n",
            "Epoch 65/100\n",
            "8177/8177 [==============================] - 1s 72us/step - loss: 2.5023 - acc: 0.3435 - val_loss: 3.0779 - val_acc: 0.2636\n",
            "Epoch 66/100\n",
            "8177/8177 [==============================] - 1s 75us/step - loss: 2.4894 - acc: 0.3488 - val_loss: 3.0635 - val_acc: 0.2587\n",
            "Epoch 67/100\n",
            "8177/8177 [==============================] - 1s 72us/step - loss: 2.4568 - acc: 0.3522 - val_loss: 3.0647 - val_acc: 0.2509\n",
            "Epoch 68/100\n",
            "8177/8177 [==============================] - 1s 71us/step - loss: 2.4623 - acc: 0.3483 - val_loss: 3.1054 - val_acc: 0.2548\n",
            "Epoch 69/100\n",
            "8177/8177 [==============================] - 1s 70us/step - loss: 2.4637 - acc: 0.3547 - val_loss: 3.0755 - val_acc: 0.2484\n",
            "Epoch 70/100\n",
            "8177/8177 [==============================] - 1s 73us/step - loss: 2.4667 - acc: 0.3485 - val_loss: 3.1153 - val_acc: 0.2499\n",
            "Epoch 71/100\n",
            "8177/8177 [==============================] - 1s 74us/step - loss: 2.4602 - acc: 0.3495 - val_loss: 3.0779 - val_acc: 0.2479\n",
            "Epoch 72/100\n",
            "8177/8177 [==============================] - 1s 70us/step - loss: 2.4688 - acc: 0.3523 - val_loss: 3.1378 - val_acc: 0.2416\n",
            "Epoch 73/100\n",
            "8177/8177 [==============================] - 1s 71us/step - loss: 2.4540 - acc: 0.3558 - val_loss: 3.1111 - val_acc: 0.2523\n",
            "Epoch 74/100\n",
            "8177/8177 [==============================] - 1s 72us/step - loss: 2.4367 - acc: 0.3492 - val_loss: 3.1269 - val_acc: 0.2430\n",
            "Epoch 75/100\n",
            "8177/8177 [==============================] - 1s 73us/step - loss: 2.4291 - acc: 0.3549 - val_loss: 3.0593 - val_acc: 0.2577\n",
            "Epoch 76/100\n",
            "8177/8177 [==============================] - 1s 72us/step - loss: 2.4225 - acc: 0.3533 - val_loss: 3.0996 - val_acc: 0.2533\n",
            "Epoch 77/100\n",
            "8177/8177 [==============================] - 1s 71us/step - loss: 2.4323 - acc: 0.3531 - val_loss: 3.1156 - val_acc: 0.2469\n",
            "Epoch 78/100\n",
            "8177/8177 [==============================] - 1s 73us/step - loss: 2.4088 - acc: 0.3666 - val_loss: 3.0699 - val_acc: 0.2572\n",
            "Epoch 79/100\n",
            "8177/8177 [==============================] - 1s 70us/step - loss: 2.4398 - acc: 0.3572 - val_loss: 3.1155 - val_acc: 0.2377\n",
            "Epoch 80/100\n",
            "8177/8177 [==============================] - 1s 72us/step - loss: 2.4174 - acc: 0.3602 - val_loss: 3.0949 - val_acc: 0.2538\n",
            "Epoch 81/100\n",
            "8177/8177 [==============================] - 1s 70us/step - loss: 2.4239 - acc: 0.3584 - val_loss: 3.1062 - val_acc: 0.2455\n",
            "Epoch 82/100\n",
            "8177/8177 [==============================] - 1s 74us/step - loss: 2.3762 - acc: 0.3713 - val_loss: 3.0663 - val_acc: 0.2562\n",
            "Epoch 83/100\n",
            "8177/8177 [==============================] - 1s 72us/step - loss: 2.4133 - acc: 0.3606 - val_loss: 3.0744 - val_acc: 0.2601\n",
            "Epoch 84/100\n",
            "8177/8177 [==============================] - 1s 72us/step - loss: 2.3815 - acc: 0.3603 - val_loss: 3.0822 - val_acc: 0.2528\n",
            "Epoch 85/100\n",
            "8177/8177 [==============================] - 1s 73us/step - loss: 2.3907 - acc: 0.3624 - val_loss: 3.1188 - val_acc: 0.2435\n",
            "Epoch 86/100\n",
            "8177/8177 [==============================] - 1s 70us/step - loss: 2.3982 - acc: 0.3627 - val_loss: 3.1094 - val_acc: 0.2553\n",
            "Epoch 87/100\n",
            "8177/8177 [==============================] - 1s 73us/step - loss: 2.3929 - acc: 0.3586 - val_loss: 3.0704 - val_acc: 0.2543\n",
            "Epoch 88/100\n",
            "8177/8177 [==============================] - 1s 70us/step - loss: 2.3923 - acc: 0.3638 - val_loss: 3.1160 - val_acc: 0.2489\n",
            "Epoch 89/100\n",
            "8177/8177 [==============================] - 1s 77us/step - loss: 2.3874 - acc: 0.3621 - val_loss: 3.1602 - val_acc: 0.2479\n",
            "Epoch 90/100\n",
            "8177/8177 [==============================] - 1s 73us/step - loss: 2.3830 - acc: 0.3687 - val_loss: 3.1110 - val_acc: 0.2513\n",
            "Epoch 91/100\n",
            "8177/8177 [==============================] - 1s 73us/step - loss: 2.3391 - acc: 0.3648 - val_loss: 3.0992 - val_acc: 0.2543\n",
            "Epoch 92/100\n",
            "8177/8177 [==============================] - 1s 73us/step - loss: 2.3557 - acc: 0.3690 - val_loss: 3.1247 - val_acc: 0.2523\n",
            "Epoch 93/100\n",
            "8177/8177 [==============================] - 1s 70us/step - loss: 2.3342 - acc: 0.3710 - val_loss: 3.1046 - val_acc: 0.2504\n",
            "Epoch 94/100\n",
            "8177/8177 [==============================] - 1s 71us/step - loss: 2.3336 - acc: 0.3737 - val_loss: 3.1611 - val_acc: 0.2440\n",
            "Epoch 95/100\n",
            "8177/8177 [==============================] - 1s 71us/step - loss: 2.3378 - acc: 0.3768 - val_loss: 3.1244 - val_acc: 0.2416\n",
            "Epoch 96/100\n",
            "8177/8177 [==============================] - 1s 72us/step - loss: 2.3610 - acc: 0.3676 - val_loss: 3.1098 - val_acc: 0.2533\n",
            "Epoch 97/100\n",
            "8177/8177 [==============================] - 1s 72us/step - loss: 2.3198 - acc: 0.3807 - val_loss: 3.1209 - val_acc: 0.2528\n",
            "Epoch 98/100\n",
            "8177/8177 [==============================] - 1s 72us/step - loss: 2.3480 - acc: 0.3698 - val_loss: 3.1150 - val_acc: 0.2577\n",
            "Epoch 99/100\n",
            "8177/8177 [==============================] - 1s 73us/step - loss: 2.3475 - acc: 0.3724 - val_loss: 3.1043 - val_acc: 0.2528\n",
            "Epoch 100/100\n",
            "8177/8177 [==============================] - 1s 71us/step - loss: 2.3346 - acc: 0.3730 - val_loss: 3.1230 - val_acc: 0.2567\n"
          ],
          "name": "stdout"
        }
      ]
    },
    {
      "cell_type": "code",
      "metadata": {
        "id": "7uj1S2m8dFD4",
        "colab_type": "code",
        "colab": {}
      },
      "source": [
        ""
      ],
      "execution_count": 0,
      "outputs": []
    }
  ]
}